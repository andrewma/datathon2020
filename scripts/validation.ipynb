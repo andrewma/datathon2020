{
 "cells": [
  {
   "cell_type": "code",
   "execution_count": 1,
   "metadata": {},
   "outputs": [],
   "source": [
    "import pandas as pd"
   ]
  },
  {
   "cell_type": "code",
   "execution_count": 42,
   "metadata": {},
   "outputs": [
    {
     "name": "stderr",
     "output_type": "stream",
     "text": [
      "/Users/andrewma/miniconda3/lib/python3.7/site-packages/IPython/core/interactiveshell.py:3058: DtypeWarning: Columns (1,5,7,8) have mixed types. Specify dtype option on import or set low_memory=False.\n",
      "  interactivity=interactivity, compiler=compiler, result=result)\n"
     ]
    }
   ],
   "source": [
    "dfs = []\n",
    "for i in range(1, 10):\n",
    "    cur = pd.read_csv(\"%d.csv\" % i)\n",
    "    if not i == 0:\n",
    "        cur = cur.drop(0)\n",
    "    dfs.append(cur)\n",
    "all_data = pd.concat(dfs, ignore_index=True)\n",
    "all_data = all_data.reset_index()\n",
    "\n",
    "\n",
    "dfs = []\n",
    "for i in range(1,7):\n",
    "    cur = pd.read_csv(\"1%d.csv\" % i)\n",
    "    if not i == 0:\n",
    "        cur = cur.drop(0)\n",
    "    dfs.append(cur)\n",
    "new = pd.concat(dfs, ignore_index=True)\n",
    "new = new.reset_index()"
   ]
  },
  {
   "cell_type": "code",
   "execution_count": null,
   "metadata": {},
   "outputs": [
    {
     "name": "stdout",
     "output_type": "stream",
     "text": [
      "100000\n",
      "100000\n",
      "200000\n",
      "300000\n",
      "400000\n",
      "500000\n"
     ]
    }
   ],
   "source": [
    "price_estimates = {\n",
    "    'Establishments operated entire year with sales/receipts/revenue of $100,000 to $249,999': (249999+100000)/2,\n",
    "    'Establishments operated entire year with sales/receipts/revenue of $250,000 to $499,999': (499999+250000)/2,\n",
    "    'Establishments operated entire year with sales/receipts/revenue of $500,000 to $999,999': (999999+500000)/2,\n",
    "    'Establishments operated entire year with sales/receipts/revenue of $1,000,000 or more': 1500000\n",
    "}\n",
    "\n",
    "\n",
    "cleaned_list = []\n",
    "for i in range(1, len(all_data)):\n",
    "    zipCode = all_data.at[i, 'GEO.id2']\n",
    "    industry = all_data.at[i, 'NAICS.display-label']\n",
    "    estabDisplay = all_data.at[i, 'RCPSZFE.display-label']\n",
    "    estabs = all_data.at[i, 'ESTAB']\n",
    "    \n",
    "    if i % 100000 == 0:\n",
    "        print(i)\n",
    "    most_recent = []\n",
    "    if len(cleaned_list) >= 1:\n",
    "        most_recent = cleaned_list[len(cleaned_list) - 1]\n",
    "    if not most_recent == [] and most_recent[0] == zipCode and most_recent[1] == industry:\n",
    "        most_recent[2] += price_estimates.get(estabDisplay, 0) * int(estabs)\n",
    "    else:\n",
    "        cleaned_list.append([zipCode, industry, price_estimates.get(estabDisplay, 0) * int(estabs)])\n",
    "\n",
    "cleaned_data = pd.DataFrame(cleaned_list, columns = ['ZIP', 'NAIC', 'EST_SALES'])\n",
    "\n",
    "cleaned_list = []\n",
    "for i in range(1, len(new)):\n",
    "    zipCode = new.at[i, 'GEO.id2']\n",
    "    industry = new.at[i, 'NAICS.display-label']\n",
    "    estabDisplay = new.at[i, 'RCPSZFE.display-label']\n",
    "    estabs = new.at[i, 'ESTAB']\n",
    "    \n",
    "    if i % 100000 == 0:\n",
    "        print(i)\n",
    "    most_recent = []\n",
    "    if len(cleaned_list) >= 1:\n",
    "        most_recent = cleaned_list[len(cleaned_list) - 1]\n",
    "    if not most_recent == [] and most_recent[0] == zipCode and most_recent[1] == industry:\n",
    "        most_recent[2] += price_estimates.get(estabDisplay, 0) * int(estabs)\n",
    "    else:\n",
    "        cleaned_list.append([zipCode, industry, price_estimates.get(estabDisplay, 0) * int(estabs)])\n",
    "\n",
    "cleaned_data2 = pd.DataFrame(cleaned_list, columns = ['ZIP', 'NAIC', 'EST_SALES'])"
   ]
  },
  {
   "cell_type": "code",
   "execution_count": null,
   "metadata": {},
   "outputs": [],
   "source": [
    "combined = cleaned_data.merge(cleaned_data2, on=[\"ZIP\", \"NAIC\"])\n",
    "combined[\"Change\"] = combined[\"EST_SALES_y\"]-combined[\"EST_SALES_x\"]\n",
    "combined[\"Pcentchange\"] = 100*combined[\"Change\"]/combined[\"EST_SALES_x\"]"
   ]
  },
  {
   "cell_type": "code",
   "execution_count": null,
   "metadata": {},
   "outputs": [],
   "source": []
  }
 ],
 "metadata": {
  "kernelspec": {
   "display_name": "Python 3",
   "language": "python",
   "name": "python3"
  },
  "language_info": {
   "codemirror_mode": {
    "name": "ipython",
    "version": 3
   },
   "file_extension": ".py",
   "mimetype": "text/x-python",
   "name": "python",
   "nbconvert_exporter": "python",
   "pygments_lexer": "ipython3",
   "version": "3.7.3"
  }
 },
 "nbformat": 4,
 "nbformat_minor": 2
}
